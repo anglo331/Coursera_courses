{
 "cells": [
  {
   "cell_type": "markdown",
   "metadata": {},
   "source": [
    "# Anglo Using notebooks "
   ]
  },
  {
   "cell_type": "markdown",
   "metadata": {},
   "source": [
    "## Introduction cell\n",
    "\n",
    "this is introduction to this project"
   ]
  },
  {
   "cell_type": "markdown",
   "metadata": {},
   "source": [
    "## here is a list of Data Science Programming Languages\n",
    "\n",
    "1. Python\n",
    "1. R\n",
    "1. C++\n",
    "1. Java"
   ]
  },
  {
   "cell_type": "markdown",
   "metadata": {},
   "source": [
    "## here is a list of Data Science libraries\n",
    "\n",
    "1. NumPy\n",
    "1. Pandas\n",
    "1. Matplotlib\n",
    "1. scikit learn\n",
    "1. tensorflow\n",
    "1. pyTorch\n"
   ]
  },
  {
   "cell_type": "markdown",
   "metadata": {
    "jp-MarkdownHeadingCollapsed": true,
    "tags": []
   },
   "source": [
    "## here is a list of Data Science Tools\n",
    "\n",
    "1. power bi, tabula\n",
    "1. sql, my sql, sqlite, mongoDB\n",
    "1. Jupyter Notebooks, RStudio\n",
    "1. Git, GitHub, Bitbucket\n"
   ]
  },
  {
   "cell_type": "markdown",
   "metadata": {},
   "source": [
    "## arithmetic expression examples\n",
    "\n",
    "1. adding ( + )\n",
    "1. subtracting ( - )\n",
    "1. Multiplication ( * )\n",
    "1. Division ( / )"
   ]
  },
  {
   "cell_type": "code",
   "execution_count": 7,
   "metadata": {
    "tags": []
   },
   "outputs": [
    {
     "name": "stdout",
     "output_type": "stream",
     "text": [
      "1 + 1 = 2\n",
      "1 * 2 = 2\n"
     ]
    }
   ],
   "source": [
    "print(\"1 + 1 =\", 1+1)\n",
    "print(\"1 * 2 =\", 1*2)"
   ]
  },
  {
   "cell_type": "code",
   "execution_count": 10,
   "metadata": {
    "tags": []
   },
   "outputs": [
    {
     "name": "stdout",
     "output_type": "stream",
     "text": [
      " 120 / 60 = 2.0 hours\n"
     ]
    }
   ],
   "source": [
    "time_in_minuts =120\n",
    "print(f\" {time_in_minuts} / 60 = {time_in_minuts /60} hours\")"
   ]
  },
  {
   "cell_type": "markdown",
   "metadata": {},
   "source": [
    "##  list of Objectives\n",
    "\n",
    "1. to learn Data science\n",
    "2. know more about the tools used in data science\n",
    "3. to know what is the programming languages used in data science"
   ]
  },
  {
   "cell_type": "markdown",
   "metadata": {},
   "source": []
  }
 ],
 "metadata": {
  "kernelspec": {
   "display_name": "Python",
   "language": "python",
   "name": "conda-env-python-py"
  },
  "language_info": {
   "codemirror_mode": {
    "name": "ipython",
    "version": 3
   },
   "file_extension": ".py",
   "mimetype": "text/x-python",
   "name": "python",
   "nbconvert_exporter": "python",
   "pygments_lexer": "ipython3",
   "version": "3.7.12"
  }
 },
 "nbformat": 4,
 "nbformat_minor": 4
}
